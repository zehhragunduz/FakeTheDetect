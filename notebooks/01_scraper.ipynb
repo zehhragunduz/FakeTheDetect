{
 "cells": [
  {
   "cell_type": "markdown",
   "metadata": {},
   "source": [
    "# Veri Çekme (Scraper)
",
    "Bu notebook, Trendyol üzerinden kulaklık ürünleri verisi çeker."
   ]
  }
 ],
 "metadata": {},
 "nbformat": 4,
 "nbformat_minor": 2
}